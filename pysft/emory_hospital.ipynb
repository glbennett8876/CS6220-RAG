{
 "cells": [
  {
   "cell_type": "code",
   "execution_count": null,
   "metadata": {},
   "outputs": [],
   "source": [
    "import syft as sy\n",
    "from syft.service.user.user import UserCreate, ServiceRole\n",
    "import pandas as pd"
   ]
  },
  {
   "cell_type": "code",
   "execution_count": null,
   "metadata": {},
   "outputs": [],
   "source": [
    "server = sy.orchestra.launch(\n",
    "    name='emory_hospital',\n",
    "    reset=True,\n",
    "    port=8094,\n",
    "    server_side_type='high',\n",
    ")\n",
    "dataset_path = 'dataset/subjects_subset_2.csv'"
   ]
  },
  {
   "cell_type": "markdown",
   "metadata": {},
   "source": [
    "Run the following cell to end the server instance if necessary."
   ]
  },
  {
   "cell_type": "code",
   "execution_count": null,
   "metadata": {},
   "outputs": [],
   "source": [
    "server.land()"
   ]
  },
  {
   "cell_type": "code",
   "execution_count": null,
   "metadata": {},
   "outputs": [],
   "source": [
    "admin = server.login(email=\"info@openmined.org\", password=\"changethis\")\n",
    "admin.settings.allow_guest_signup(enable=False)"
   ]
  },
  {
   "cell_type": "code",
   "execution_count": null,
   "metadata": {},
   "outputs": [],
   "source": [
    "admin.users.create(\n",
    "    name='Gopesh Singal',\n",
    "    email='gsingal3@gatech.edu',\n",
    "    password='testing123',\n",
    "    role=ServiceRole.DATA_SCIENTIST\n",
    ")"
   ]
  },
  {
   "cell_type": "code",
   "execution_count": null,
   "metadata": {},
   "outputs": [],
   "source": [
    "def create_dataset_assets(path, name, description) -> sy.Asset:\n",
    "    '''\n",
    "    Assumption is made the the input path leads to a CSV formatted dataset with substantial rows such that\n",
    "    100 of the rows can be partitioned into a mock dataset without significantly decreasing the real dataset's \n",
    "    size\n",
    "    '''\n",
    "    real_df = pd.read_csv(path)\n",
    "\n",
    "    asset = sy.Asset(\n",
    "        name=name,\n",
    "        description=description,\n",
    "        data=real_df,\n",
    "        mock=real_df,\n",
    "    )\n",
    "    return asset\n",
    "    \n",
    "asset_subj = create_dataset_assets(path=dataset_path, name='Subjects', description='Personal information for patients')\n",
    "dataset = sy.Dataset(\n",
    "    name='Hospital information', \n",
    "    description='Information regarding patients in hospital care for CS 6220',\n",
    "    asset_list=[asset_subj]\n",
    ")\n",
    "\n",
    "admin.upload_dataset(dataset)"
   ]
  },
  {
   "cell_type": "markdown",
   "metadata": {},
   "source": [
    "The following cell will access the requests from a client process and approve the request. "
   ]
  },
  {
   "cell_type": "code",
   "execution_count": null,
   "metadata": {},
   "outputs": [],
   "source": [
    "project = admin.projects[0]\n",
    "request = project.requests[0]\n",
    "rag_function = request.code.run\n",
    "\n",
    "result = request.approve()"
   ]
  }
 ],
 "metadata": {
  "language_info": {
   "name": "python"
  }
 },
 "nbformat": 4,
 "nbformat_minor": 2
}
